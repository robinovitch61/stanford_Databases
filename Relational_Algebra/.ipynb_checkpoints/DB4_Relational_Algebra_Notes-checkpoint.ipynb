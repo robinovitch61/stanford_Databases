{
 "cells": [
  {
   "cell_type": "code",
   "execution_count": 1,
   "metadata": {},
   "outputs": [
    {
     "data": {
      "text/html": [
       "<style>\n",
       ".output {\n",
       "    align-items: center;\n",
       "}\n",
       "\n",
       ".text_cell_render { /* Customize text cells */\n",
       "line-height:2.5em;\n",
       "}\n",
       "</style>"
      ],
      "text/plain": [
       "<IPython.core.display.HTML object>"
      ]
     },
     "execution_count": 1,
     "metadata": {},
     "output_type": "execute_result"
    }
   ],
   "source": [
    "from IPython.display import Image, display, HTML\n",
    "\n",
    "CSS = \"\"\"\n",
    ".output {\n",
    "    align-items: center;\n",
    "}\n",
    "\n",
    ".text_cell_render { /* Customize text cells */\n",
    "line-height:2.5em;\n",
    "}\n",
    "\"\"\"\n",
    "\n",
    "HTML('<style>{}</style>'.format(CSS))"
   ]
  },
  {
   "cell_type": "markdown",
   "metadata": {},
   "source": [
    "## Stanford Databases Mini-Course DB4:\n",
    "# Relational Algebra\n",
    "### Notes by Leo Robinovitch"
   ]
  },
  {
   "cell_type": "markdown",
   "metadata": {},
   "source": [
    "**Introduction:**\n",
    "* Relation: a table\n",
    "\n",
    "* Example relations used in video:\n",
    "  * College(cName, state, enrollment)\n",
    "  * Student(sID, sName, GPA, sizeHS)\n",
    "  * Apply(sID, cName, major, decision)\n",
    "  <br><br>\n",
    "  \n",
    "* Querying other relations results in a relation\n",
    "\n",
    "* Key for a relation: a set of attributes whose values are guaranteed to be unique\n",
    "\n",
    "* Simplest query in relational algebra is just the name of a relation\n",
    "  * The query Student results in a copy of the relation Student\n",
    "  <br><br>\n",
    "  \n",
    "**Select Operator:** used to pick certain rows out of relation(s) $\\to$ uses sigma $\\sigma_{Condition}Relation$\n",
    "* $\\sigma_{GPA > 3.7}Student$ returns subset of student table containing those rows whose GPA is greater than 7\n",
    "* $\\sigma_{GPA > 3.7\\ \\cap\\ sizeHS < 1000}Student$ is intersection rows in Student where GPA > 3.7 and sizeHS < 1000\n",
    "* $\\sigma_{cName = 'Stanford'\\ \\cap\\ major = 'CS'}Apply$ gets applicants to Stanford in CS (rows of Apply)\n",
    "<br><br>\n",
    "\n",
    "**Project Operator:** used to pick certain columns out of relation(s) $\\to$ uses pi: $\\Pi_{Attributes A_1, A_2...A_n}Relation$ where attributes are column names\n",
    "* $\\Pi_{sID, decision}Apply$ gets out two columns (sID and decision) from Apply relation\n",
    "<br><br>\n",
    "  \n",
    "**Combining Extraction of Rows and Columns:**\n",
    "* Because a query produces a relation, can nest operators:\n",
    "  * $\\Pi_{sID, decision}(\\sigma_{GPA > 3.7}Student)$ selects for both columns and rows"
   ]
  },
  {
   "cell_type": "code",
   "execution_count": 2,
   "metadata": {
    "collapsed": true
   },
   "outputs": [],
   "source": [
    "# display(Image(filename='.png', embed=True, width=300))"
   ]
  },
  {
   "cell_type": "code",
   "execution_count": 4,
   "metadata": {
    "scrolled": true
   },
   "outputs": [
    {
     "name": "stdout",
     "output_type": "stream",
     "text": [
      "[NbConvertApp] Converting notebook DB4_Relational_Algebra_Notes.ipynb to html\n",
      "[NbConvertApp] Writing 252267 bytes to DB4_Relational_Algebra_Notes.html\n"
     ]
    }
   ],
   "source": [
    "!jupyter nbconvert DB4_Relational_Algebra_Notes.ipynb --to html --TemplateExporter.exclude_input=True"
   ]
  }
 ],
 "metadata": {
  "kernelspec": {
   "display_name": "Python 3",
   "language": "python",
   "name": "python3"
  },
  "language_info": {
   "codemirror_mode": {
    "name": "ipython",
    "version": 3
   },
   "file_extension": ".py",
   "mimetype": "text/x-python",
   "name": "python",
   "nbconvert_exporter": "python",
   "pygments_lexer": "ipython3",
   "version": "3.6.0"
  }
 },
 "nbformat": 4,
 "nbformat_minor": 2
}
