{
 "cells": [
  {
   "cell_type": "markdown",
   "metadata": {},
   "source": [
    "# Exercise 1: Movie Reviews"
   ]
  },
  {
   "cell_type": "markdown",
   "metadata": {},
   "source": [
    "## rating.sql\n",
    "```SQL\n",
    "/* Delete the tables if they already exist */\n",
    "drop table if exists Movie;\n",
    "drop table if exists Reviewer;\n",
    "drop table if exists Rating;\n",
    "\n",
    "/* Create the schema for our tables */\n",
    "create table Movie(mID int, title text, year int, director text);\n",
    "create table Reviewer(rID int, name text);\n",
    "create table Rating(rID int, mID int, stars int, ratingDate date);\n",
    "\n",
    "/* Populate the tables with our data */\n",
    "insert into Movie values(101, 'Gone with the Wind', 1939, 'Victor Fleming');\n",
    "insert into Movie values(102, 'Star Wars', 1977, 'George Lucas');\n",
    "insert into Movie values(103, 'The Sound of Music', 1965, 'Robert Wise');\n",
    "insert into Movie values(104, 'E.T.', 1982, 'Steven Spielberg');\n",
    "insert into Movie values(105, 'Titanic', 1997, 'James Cameron');\n",
    "insert into Movie values(106, 'Snow White', 1937, null);\n",
    "insert into Movie values(107, 'Avatar', 2009, 'James Cameron');\n",
    "insert into Movie values(108, 'Raiders of the Lost Ark', 1981, 'Steven Spielberg');\n",
    "\n",
    "insert into Reviewer values(201, 'Sarah Martinez');\n",
    "insert into Reviewer values(202, 'Daniel Lewis');\n",
    "insert into Reviewer values(203, 'Brittany Harris');\n",
    "insert into Reviewer values(204, 'Mike Anderson');\n",
    "insert into Reviewer values(205, 'Chris Jackson');\n",
    "insert into Reviewer values(206, 'Elizabeth Thomas');\n",
    "insert into Reviewer values(207, 'James Cameron');\n",
    "insert into Reviewer values(208, 'Ashley White');\n",
    "\n",
    "insert into Rating values(201, 101, 2, '2011-01-22');\n",
    "insert into Rating values(201, 101, 4, '2011-01-27');\n",
    "insert into Rating values(202, 106, 4, null);\n",
    "insert into Rating values(203, 103, 2, '2011-01-20');\n",
    "insert into Rating values(203, 108, 4, '2011-01-12');\n",
    "insert into Rating values(203, 108, 2, '2011-01-30');\n",
    "insert into Rating values(204, 101, 3, '2011-01-09');\n",
    "insert into Rating values(205, 103, 3, '2011-01-27');\n",
    "insert into Rating values(205, 104, 2, '2011-01-22');\n",
    "insert into Rating values(205, 108, 4, null);\n",
    "insert into Rating values(206, 107, 3, '2011-01-15');\n",
    "insert into Rating values(206, 106, 5, '2011-01-19');\n",
    "insert into Rating values(207, 107, 5, '2011-01-20');\n",
    "insert into Rating values(208, 104, 3, '2011-01-02');\n",
    "```"
   ]
  },
  {
   "cell_type": "markdown",
   "metadata": {
    "collapsed": true
   },
   "source": [
    "### Query Exercises:"
   ]
  },
  {
   "cell_type": "markdown",
   "metadata": {},
   "source": [
    "#### Q1: Find the titles of all movies directed by Steven Spielberg. \n",
    "\n",
    "```SQL\n",
    "select title\n",
    "from Movie\n",
    "where director = 'Steven Spielberg';\n",
    "```"
   ]
  },
  {
   "cell_type": "markdown",
   "metadata": {},
   "source": [
    "#### Q2: Find all years that have a movie that received a rating of 4 or 5, and sort them in increasing order. \n",
    "\n",
    "```SQL\n",
    "select distinct Movie.year\n",
    "from Movie join Rating using(mID)\n",
    "where Rating.stars = 4 or Rating.stars = 5\n",
    "order by Movie.year;\n",
    "```"
   ]
  },
  {
   "cell_type": "markdown",
   "metadata": {},
   "source": [
    "#### Q3: Find the titles of all movies that have no ratings. \n",
    "\n",
    "```SQL\n",
    "select title\n",
    "from movie\n",
    "where mID not in (select mID from rating where stars not null);\n",
    "```"
   ]
  },
  {
   "cell_type": "markdown",
   "metadata": {},
   "source": [
    "#### Q4: Some reviewers didn't provide a date with their rating. Find the names of all reviewers who have ratings with a NULL value for the date. \n",
    "\n",
    "```SQL\n",
    "select reviewer.name\n",
    "from reviewer join rating using(rID)\n",
    "where ratingDate is null;\n",
    "```"
   ]
  },
  {
   "cell_type": "markdown",
   "metadata": {},
   "source": [
    "#### Q5: Write a query to return the ratings data in a more readable format: reviewer name, movie title, stars, and ratingDate. Also, sort the data, first by reviewer name, then by movie title, and lastly by number of stars. \n",
    "\n",
    "```SQL\n",
    "select reviewer.name, movie.title, rating.stars, rating.ratingDate\n",
    "from movie join rating using(mID) join reviewer using(rID)\n",
    "order by reviewer.name, movie.title, rating.stars;\n",
    "```"
   ]
  },
  {
   "cell_type": "markdown",
   "metadata": {},
   "source": [
    "#### Q6: For all cases where the same reviewer rated the same movie twice and gave it a higher rating the second time, return the reviewer's name and the title of the movie. \n",
    "\n",
    "```SQL\n",
    "--1st Solution:\n",
    "select reviewer.name, movie.title\n",
    "from movie join (select R1.mID, R1.rID from rating R1, rating R2 \n",
    "                 where R1.mID = R2.mID and R1.rID = R2.rID \n",
    "                 and R1.ratingDate < R2.ratingDate \n",
    "                 and R1.stars < R2.stars) using(mID) join reviewer using(rID);\n",
    "                 \n",
    "--2nd Solution:\n",
    "select R1.name, R1.title\n",
    "from (reviewer join rating using(rID) join movie using(mID)) as R1, rating R2\n",
    "where R1.rID in (select rID\n",
    "\t\t\t\t from rating\n",
    "\t\t\t\t group by rID\n",
    "\t\t\t\t having count(rID) = 2)\n",
    "and R1.rID = R2.rID\n",
    "and R1.mID = R2.mID\n",
    "and R1.ratingDate < R2.ratingDate\n",
    "and R1.stars < R2.stars;\n",
    "```"
   ]
  },
  {
   "cell_type": "markdown",
   "metadata": {},
   "source": [
    "#### Q7: For each movie that has at least one rating, find the highest number of stars that movie received. Return the movie title and number of stars. Sort by movie title. \n",
    "\n",
    "```SQL\n",
    "select title, stars\n",
    "from movie join rating using(mID)\n",
    "group by movie.mID\n",
    "having rating.stars = max(rating.stars)\n",
    "order by title\n",
    "```"
   ]
  },
  {
   "cell_type": "markdown",
   "metadata": {},
   "source": [
    "#### Q8:For each movie, return the title and the 'rating spread', that is, the difference between highest and lowest ratings given to that movie. Sort by rating spread from highest to lowest, then by movie title. \n",
    "\n",
    "```SQL\n",
    "select title, (maxR - minR) as ratingSpread\n",
    "from (select title, max(stars) as maxR, min(stars) as minR\n",
    "      from movie join rating using(mID)\n",
    "      group by mID)\n",
    "order by ratingSpread desc, title;\n",
    "```"
   ]
  },
  {
   "cell_type": "markdown",
   "metadata": {},
   "source": [
    "#### Q9: Find the difference between the average rating of movies released before 1980 and the average rating of movies released after 1980. (Make sure to calculate the average rating for each movie, then the average of those averages for movies before 1980 and movies after. Don't just calculate the overall average rating before and after 1980.) \n",
    "\n",
    "```SQL\n",
    "select avg(pre1980avg) - avg(post1980avg) as ratingDiff\n",
    "from (select mID, avg(stars) as pre1980avg\n",
    "\t  from rating join movie using(mID)\n",
    "\t  group by mID\n",
    "\t  having year < 1980),\n",
    "\t (select mID, avg(stars) as post1980avg\n",
    "\t  from rating join movie using(mID)\n",
    "\t  group by mID\n",
    "\t  having year > 1980);\n",
    "```"
   ]
  },
  {
   "cell_type": "markdown",
   "metadata": {},
   "source": [
    "### Modification Exercises:"
   ]
  },
  {
   "cell_type": "markdown",
   "metadata": {},
   "source": [
    "#### Q1: Add the reviewer Roger Ebert to your database, with an rID of 209. \n",
    "    \n",
    "```SQL\n",
    "insert into reviewer values (209, 'Roger Ebert');\n",
    "```"
   ]
  },
  {
   "cell_type": "markdown",
   "metadata": {},
   "source": [
    "#### Q2: Insert 5-star ratings by James Cameron for all movies in the database. Leave the review date as NULL. \n",
    "\n",
    "```SQL\n",
    "-- \"Correct\" answer:\n",
    "insert into rating\n",
    "select (select distinct rID from reviewer where name = 'James Cameron'), mID, 5, null\n",
    "from movie;\n",
    "\n",
    "-- What I think it should be to avoid duplicate ratings by James Cameron:\n",
    "insert into rating\n",
    "select (select distinct rID from reviewer where name = 'James Cameron'), mID, 5, null\n",
    "from movie \n",
    "where mID not in (select distinct mID \n",
    "                  from rating \n",
    "                  where rID = (select distinct rID from reviewer where name = 'James Cameron'));\n",
    "```"
   ]
  },
  {
   "cell_type": "markdown",
   "metadata": {},
   "source": [
    "#### Q3: For all movies that have an average rating of 4 stars or higher, add 25 to the release year. (Update the existing tuples; don't insert new tuples.) \n",
    "\n",
    "```SQL\n",
    "update movie\n",
    "set year = year + 25\n",
    "where mID in (select distinct mID \n",
    "              from rating \n",
    "              group by mID \n",
    "              having avg(stars) >= 4);\n",
    "```"
   ]
  },
  {
   "cell_type": "markdown",
   "metadata": {},
   "source": [
    "#### Q4: Remove all ratings where the movie's year is before 1970 or after 2000, and the rating is fewer than 4 stars. \n",
    "\n",
    "```SQL\n",
    "delete from rating\n",
    "where mID in (select distinct mID from movie where year < 1970 or year > 2000) and stars < 4;\n",
    "```"
   ]
  },
  {
   "cell_type": "markdown",
   "metadata": {},
   "source": [
    "# Exercise 2: Highschool Drama"
   ]
  },
  {
   "cell_type": "markdown",
   "metadata": {},
   "source": [
    "## social.sql:\n",
    "\n",
    "```SQL\n",
    "/* Delete the tables if they already exist */\n",
    "drop table if exists Highschooler;\n",
    "drop table if exists Friend;\n",
    "drop table if exists Likes;\n",
    "\n",
    "/* Create the schema for our tables */\n",
    "create table Highschooler(ID int, name text, grade int);\n",
    "create table Friend(ID1 int, ID2 int);\n",
    "create table Likes(ID1 int, ID2 int);\n",
    "\n",
    "/* Populate the tables with our data */\n",
    "insert into Highschooler values (1510, 'Jordan', 9);\n",
    "insert into Highschooler values (1689, 'Gabriel', 9);\n",
    "insert into Highschooler values (1381, 'Tiffany', 9);\n",
    "insert into Highschooler values (1709, 'Cassandra', 9);\n",
    "insert into Highschooler values (1101, 'Haley', 10);\n",
    "insert into Highschooler values (1782, 'Andrew', 10);\n",
    "insert into Highschooler values (1468, 'Kris', 10);\n",
    "insert into Highschooler values (1641, 'Brittany', 10);\n",
    "insert into Highschooler values (1247, 'Alexis', 11);\n",
    "insert into Highschooler values (1316, 'Austin', 11);\n",
    "insert into Highschooler values (1911, 'Gabriel', 11);\n",
    "insert into Highschooler values (1501, 'Jessica', 11);\n",
    "insert into Highschooler values (1304, 'Jordan', 12);\n",
    "insert into Highschooler values (1025, 'John', 12);\n",
    "insert into Highschooler values (1934, 'Kyle', 12);\n",
    "insert into Highschooler values (1661, 'Logan', 12);\n",
    "\n",
    "insert into Friend values (1510, 1381);\n",
    "insert into Friend values (1510, 1689);\n",
    "insert into Friend values (1689, 1709);\n",
    "insert into Friend values (1381, 1247);\n",
    "insert into Friend values (1709, 1247);\n",
    "insert into Friend values (1689, 1782);\n",
    "insert into Friend values (1782, 1468);\n",
    "insert into Friend values (1782, 1316);\n",
    "insert into Friend values (1782, 1304);\n",
    "insert into Friend values (1468, 1101);\n",
    "insert into Friend values (1468, 1641);\n",
    "insert into Friend values (1101, 1641);\n",
    "insert into Friend values (1247, 1911);\n",
    "insert into Friend values (1247, 1501);\n",
    "insert into Friend values (1911, 1501);\n",
    "insert into Friend values (1501, 1934);\n",
    "insert into Friend values (1316, 1934);\n",
    "insert into Friend values (1934, 1304);\n",
    "insert into Friend values (1304, 1661);\n",
    "insert into Friend values (1661, 1025);\n",
    "insert into Friend select ID2, ID1 from Friend;\n",
    "\n",
    "insert into Likes values(1689, 1709);\n",
    "insert into Likes values(1709, 1689);\n",
    "insert into Likes values(1782, 1709);\n",
    "insert into Likes values(1911, 1247);\n",
    "insert into Likes values(1247, 1468);\n",
    "insert into Likes values(1641, 1468);\n",
    "insert into Likes values(1316, 1304);\n",
    "insert into Likes values(1501, 1934);\n",
    "insert into Likes values(1934, 1501);\n",
    "insert into Likes values(1025, 1101);\n",
    "```"
   ]
  },
  {
   "cell_type": "markdown",
   "metadata": {
    "collapsed": true
   },
   "source": [
    "### Query Exercises:"
   ]
  },
  {
   "cell_type": "markdown",
   "metadata": {},
   "source": [
    "#### Q1: Find the names of all students who are friends with someone named Gabriel.\n",
    "\n",
    "```SQL\n",
    "select distinct highschooler.name\n",
    "from friend, highschooler\n",
    "where friend.ID1 = highschooler.ID and friend.ID2 in (select ID from highschooler where name = 'Gabriel');\n",
    "```"
   ]
  },
  {
   "cell_type": "markdown",
   "metadata": {},
   "source": [
    "#### Q2: For every student who likes someone 2 or more grades younger than themselves, return that student's name and grade, and the name and grade of the student they like. \n",
    "\n",
    "```SQL\n",
    "select H1.name, H1.grade, H2.name, H2.grade\n",
    "from highschooler H1, highschooler H2, likes L\n",
    "where H1.ID = L.ID1 and H2.ID = L.ID2 and (H1.grade - H2.grade) >= 2;\n",
    "```"
   ]
  },
  {
   "cell_type": "markdown",
   "metadata": {},
   "source": [
    "#### Q3: For every pair of students who both like each other, return the name and grade of both students. Include each pair only once, with the two names in alphabetical order. \n",
    "\n",
    "```SQL\n",
    "select distinct \tH1.name, H1.grade, H2.name, H2.grade\n",
    "from highschooler H1, highschooler H2, likes L1, likes L2\n",
    "where H1.ID = L1.ID1 and H2.ID = L1.ID2\n",
    "and H1.ID = L2.ID2 and H2.ID = L2.ID1\n",
    "and H1.name < H2.name;\n",
    "```"
   ]
  },
  {
   "cell_type": "markdown",
   "metadata": {},
   "source": [
    "#### Q4: Find all students who do not appear in the Likes table (as a student who likes or is liked) and return their names and grades. Sort by grade, then by name within each grade. \n",
    "\n",
    "```SQL\n",
    "select name, grade\n",
    "from highschooler\n",
    "where highschooler.ID not in (select ID1 from likes union select ID2 from likes)\n",
    "order by grade, name;\n",
    "```"
   ]
  },
  {
   "cell_type": "markdown",
   "metadata": {},
   "source": [
    "#### Q5: For every situation where student A likes student B, but we have no information about whom B likes (that is, B does not appear as an ID1 in the Likes table), return A and B's names and grades. \n",
    "\n",
    "```SQL\n",
    "select A.name, A.grade, B.name, B.grade\n",
    "from highschooler A, highschooler B, likes L\n",
    "where A.ID = L.ID1 and B.ID = L.ID2\n",
    "and B.ID not in (select ID1 from likes);\n",
    "```"
   ]
  },
  {
   "cell_type": "markdown",
   "metadata": {},
   "source": [
    "#### Q6: Find names and grades of students who only have friends in the same grade. Return the result sorted by grade, then by name within each grade. \n",
    "\n",
    "```SQL\n",
    "select name, grade\n",
    "from highschooler H\n",
    "where H.ID not in (select distinct H1.ID\n",
    "                   from highschooler H1, highschooler H2, friend F\n",
    "                   where H1.ID = F.ID1 and H2.ID = F.ID2 and H1.grade <> H2.grade)\n",
    "order by grade, name;\n",
    "```"
   ]
  },
  {
   "cell_type": "markdown",
   "metadata": {},
   "source": [
    "#### Q7: For each student A who likes a student B where the two are not friends, find if they have a friend C in common (who can introduce them!). For all such trios, return the name and grade of A, B, and C. \n",
    "    \n",
    "```SQL\n",
    "select A.name, A.grade, B.name, B.grade, C.name, C.grade\n",
    "from highschooler A, highschooler B, highschooler C, friend F1, friend F2, likes L\n",
    "where A.ID = L.ID1 and B.ID = L.ID2\n",
    "and B.ID not in (select ID2 from friend where ID1 = A.ID)\n",
    "and C.ID = F1.ID1 and A.ID = F1.ID2\n",
    "and C.ID = F2.ID1 and B.ID = F2.ID2;\n",
    "```"
   ]
  },
  {
   "cell_type": "markdown",
   "metadata": {},
   "source": [
    "#### Q8: Find the difference between the number of students in the school and the number of different first names. \n",
    "\n",
    "```SQL\n",
    "select (numStudents - numNames)\n",
    "from (select count(*) as numStudents\n",
    "\t  from highschooler),\n",
    "\t (select count(distinct name) as numNames\n",
    "\t from highschooler);\n",
    "```"
   ]
  },
  {
   "cell_type": "markdown",
   "metadata": {},
   "source": [
    "#### Q9: Find the name and grade of all students who are liked by more than one other student. \n",
    "\n",
    "```SQL\n",
    "select name, grade\n",
    "from (select *, count(*) as numLikers\n",
    "\tfrom likes, highschooler\n",
    "\twhere ID = ID2\n",
    "\tgroup by ID2)\n",
    "where numLikers > 1;\n",
    "```"
   ]
  },
  {
   "cell_type": "markdown",
   "metadata": {},
   "source": [
    "### Modification Exercises:"
   ]
  },
  {
   "cell_type": "markdown",
   "metadata": {},
   "source": [
    "#### Q1: It's time for the seniors to graduate. Remove all 12th graders from Highschooler. \n",
    "\n",
    "```SQL\n",
    "delete from highschooler\n",
    "where grade = 12;\n",
    "```"
   ]
  },
  {
   "cell_type": "markdown",
   "metadata": {},
   "source": [
    "#### Q2: If two students A and B are friends, and A likes B but not vice-versa, remove the Likes tuple. \n",
    "\n",
    "```SQL\n",
    "delete from likes\n",
    "where ID1 in (select F.ID1 from friend F where F.ID2 = likes.ID2)\n",
    "and ID2 in (select L.ID2 from likes L where L.ID1 = likes.ID1)\n",
    "and ID1 not in (select L.ID2 from likes L where L.ID1 = likes.ID2);\n",
    "```"
   ]
  },
  {
   "cell_type": "markdown",
   "metadata": {},
   "source": [
    "#### Q3: For all cases where A is friends with B, and B is friends with C, add a new friendship for the pair A and C. Do not add duplicate friendships, friendships that already exist, or friendships with oneself. (This one is a bit challenging; congratulations if you get it right.) \n",
    " \n",
    "```SQL\n",
    "insert into friend\n",
    "select distinct A.ID, C.ID\n",
    "from highschooler A, highschooler B, highschooler C, friend F1, friend F2\n",
    "where A.ID = F1.ID1 and B.ID = F1.ID2\n",
    "and B.ID = F2.ID1 and C.ID = F2.ID2\n",
    "and not exists (select * from friend where friend.ID1 = A.ID and friend.ID2 = C.ID)\n",
    "and A.ID <> C.ID;\n",
    "```"
   ]
  }
 ],
 "metadata": {
  "kernelspec": {
   "display_name": "Python 3",
   "language": "python",
   "name": "python3"
  },
  "language_info": {
   "codemirror_mode": {
    "name": "ipython",
    "version": 3
   },
   "file_extension": ".py",
   "mimetype": "text/x-python",
   "name": "python",
   "nbconvert_exporter": "python",
   "pygments_lexer": "ipython3",
   "version": "3.6.0"
  }
 },
 "nbformat": 4,
 "nbformat_minor": 2
}
