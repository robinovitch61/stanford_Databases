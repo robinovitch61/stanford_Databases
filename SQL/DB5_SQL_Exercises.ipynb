{
 "cells": [
  {
   "cell_type": "markdown",
   "metadata": {},
   "source": [
    "#### Q\n",
    "```SQL\n",
    "\n",
    "```"
   ]
  },
  {
   "cell_type": "markdown",
   "metadata": {},
   "source": [
    "# Exercise 2: Highschool Drama"
   ]
  },
  {
   "cell_type": "markdown",
   "metadata": {},
   "source": [
    "## social.sql:\n",
    "\n",
    "```SQL\n",
    "/* Delete the tables if they already exist */\n",
    "drop table if exists Highschooler;\n",
    "drop table if exists Friend;\n",
    "drop table if exists Likes;\n",
    "\n",
    "/* Create the schema for our tables */\n",
    "create table Highschooler(ID int, name text, grade int);\n",
    "create table Friend(ID1 int, ID2 int);\n",
    "create table Likes(ID1 int, ID2 int);\n",
    "\n",
    "/* Populate the tables with our data */\n",
    "insert into Highschooler values (1510, 'Jordan', 9);\n",
    "insert into Highschooler values (1689, 'Gabriel', 9);\n",
    "insert into Highschooler values (1381, 'Tiffany', 9);\n",
    "insert into Highschooler values (1709, 'Cassandra', 9);\n",
    "insert into Highschooler values (1101, 'Haley', 10);\n",
    "insert into Highschooler values (1782, 'Andrew', 10);\n",
    "insert into Highschooler values (1468, 'Kris', 10);\n",
    "insert into Highschooler values (1641, 'Brittany', 10);\n",
    "insert into Highschooler values (1247, 'Alexis', 11);\n",
    "insert into Highschooler values (1316, 'Austin', 11);\n",
    "insert into Highschooler values (1911, 'Gabriel', 11);\n",
    "insert into Highschooler values (1501, 'Jessica', 11);\n",
    "insert into Highschooler values (1304, 'Jordan', 12);\n",
    "insert into Highschooler values (1025, 'John', 12);\n",
    "insert into Highschooler values (1934, 'Kyle', 12);\n",
    "insert into Highschooler values (1661, 'Logan', 12);\n",
    "\n",
    "insert into Friend values (1510, 1381);\n",
    "insert into Friend values (1510, 1689);\n",
    "insert into Friend values (1689, 1709);\n",
    "insert into Friend values (1381, 1247);\n",
    "insert into Friend values (1709, 1247);\n",
    "insert into Friend values (1689, 1782);\n",
    "insert into Friend values (1782, 1468);\n",
    "insert into Friend values (1782, 1316);\n",
    "insert into Friend values (1782, 1304);\n",
    "insert into Friend values (1468, 1101);\n",
    "insert into Friend values (1468, 1641);\n",
    "insert into Friend values (1101, 1641);\n",
    "insert into Friend values (1247, 1911);\n",
    "insert into Friend values (1247, 1501);\n",
    "insert into Friend values (1911, 1501);\n",
    "insert into Friend values (1501, 1934);\n",
    "insert into Friend values (1316, 1934);\n",
    "insert into Friend values (1934, 1304);\n",
    "insert into Friend values (1304, 1661);\n",
    "insert into Friend values (1661, 1025);\n",
    "insert into Friend select ID2, ID1 from Friend;\n",
    "\n",
    "insert into Likes values(1689, 1709);\n",
    "insert into Likes values(1709, 1689);\n",
    "insert into Likes values(1782, 1709);\n",
    "insert into Likes values(1911, 1247);\n",
    "insert into Likes values(1247, 1468);\n",
    "insert into Likes values(1641, 1468);\n",
    "insert into Likes values(1316, 1304);\n",
    "insert into Likes values(1501, 1934);\n",
    "insert into Likes values(1934, 1501);\n",
    "insert into Likes values(1025, 1101);\n",
    "```"
   ]
  },
  {
   "cell_type": "markdown",
   "metadata": {},
   "source": [
    "#### Q1: Find the names of all students who are friends with someone named Gabriel.\n",
    "\n",
    "```SQL\n",
    "select distinct highschooler.name\n",
    "from friend, highschooler\n",
    "where friend.ID1 = highschooler.ID and friend.ID2 in (select ID from highschooler where name = 'Gabriel');\n",
    "```"
   ]
  },
  {
   "cell_type": "markdown",
   "metadata": {},
   "source": [
    "#### Q2: For every student who likes someone 2 or more grades younger than themselves, return that student's name and grade, and the name and grade of the student they like. \n",
    "\n",
    "```SQL\n",
    "select H1.name, H1.grade, H2.name, H2.grade\n",
    "from highschooler H1, highschooler H2, likes L\n",
    "where H1.ID = L.ID1 and H2.ID = L.ID2 and (H1.grade - H2.grade) >= 2;\n",
    "```"
   ]
  },
  {
   "cell_type": "markdown",
   "metadata": {},
   "source": [
    "#### Q3: For every pair of students who both like each other, return the name and grade of both students. Include each pair only once, with the two names in alphabetical order. \n",
    "\n",
    "```SQL\n",
    "select distinct \tH1.name, H1.grade, H2.name, H2.grade\n",
    "from highschooler H1, highschooler H2, likes L1, likes L2\n",
    "where H1.ID = L1.ID1 and H2.ID = L1.ID2\n",
    "and H1.ID = L2.ID2 and H2.ID = L2.ID1\n",
    "and H1.name < H2.name;\n",
    "```"
   ]
  },
  {
   "cell_type": "markdown",
   "metadata": {},
   "source": [
    "#### Q4: Find all students who do not appear in the Likes table (as a student who likes or is liked) and return their names and grades. Sort by grade, then by name within each grade. \n",
    "\n",
    "```SQL\n",
    "select name, grade\n",
    "from highschooler\n",
    "where highschooler.ID not in (select ID1 from likes union select ID2 from likes)\n",
    "order by grade, name;\n",
    "```"
   ]
  },
  {
   "cell_type": "markdown",
   "metadata": {},
   "source": [
    "#### Q5: For every situation where student A likes student B, but we have no information about whom B likes (that is, B does not appear as an ID1 in the Likes table), return A and B's names and grades. \n",
    "\n",
    "```SQL\n",
    "select A.name, A.grade, B.name, B.grade\n",
    "from highschooler A, highschooler B, likes L\n",
    "where A.ID = L.ID1 and B.ID = L.ID2\n",
    "and B.ID not in (select ID1 from likes);\n",
    "```"
   ]
  },
  {
   "cell_type": "markdown",
   "metadata": {},
   "source": [
    "#### Q6: Find names and grades of students who only have friends in the same grade. Return the result sorted by grade, then by name within each grade. \n",
    "\n",
    "```SQL\n",
    "select name, grade\n",
    "from highschooler H\n",
    "where H.ID not in (select distinct H1.ID\n",
    "                   from highschooler H1, highschooler H2, friend F\n",
    "                   where H1.ID = F.ID1 and H2.ID = F.ID2 and H1.grade <> H2.grade)\n",
    "order by grade, name;\n",
    "```"
   ]
  },
  {
   "cell_type": "markdown",
   "metadata": {},
   "source": [
    "#### Q7: For each student A who likes a student B where the two are not friends, find if they have a friend C in common (who can introduce them!). For all such trios, return the name and grade of A, B, and C. \n",
    "    \n",
    "```SQL\n",
    "select A.name, A.grade, B.name, B.grade, C.name, C.grade\n",
    "from highschooler A, highschooler B, highschooler C, friend F1, friend F2, likes L\n",
    "where A.ID = L.ID1 and B.ID = L.ID2\n",
    "and B.ID not in (select ID2 from friend where ID1 = A.ID)\n",
    "and C.ID = F1.ID1 and A.ID = F1.ID2\n",
    "and C.ID = F2.ID1 and B.ID = F2.ID2;\n",
    "```"
   ]
  },
  {
   "cell_type": "markdown",
   "metadata": {},
   "source": [
    "#### Q8: Find the difference between the number of students in the school and the number of different first names. \n",
    "\n",
    "```SQL\n",
    "select (numStudents - numNames)\n",
    "from (select count(*) as numStudents\n",
    "\t  from highschooler),\n",
    "\t (select count(distinct name) as numNames\n",
    "\t from highschooler);\n",
    "```"
   ]
  },
  {
   "cell_type": "markdown",
   "metadata": {},
   "source": [
    "#### Q9: Find the name and grade of all students who are liked by more than one other student. \n",
    "\n",
    "```SQL\n",
    "select name, grade\n",
    "from (select *, count(*) as numLikers\n",
    "\tfrom likes, highschooler\n",
    "\twhere ID = ID2\n",
    "\tgroup by ID2)\n",
    "where numLikers > 1;\n",
    "```"
   ]
  }
 ],
 "metadata": {
  "kernelspec": {
   "display_name": "Python 3",
   "language": "python",
   "name": "python3"
  },
  "language_info": {
   "codemirror_mode": {
    "name": "ipython",
    "version": 3
   },
   "file_extension": ".py",
   "mimetype": "text/x-python",
   "name": "python",
   "nbconvert_exporter": "python",
   "pygments_lexer": "ipython3",
   "version": "3.6.0"
  }
 },
 "nbformat": 4,
 "nbformat_minor": 2
}
